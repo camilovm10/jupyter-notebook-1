{
 "cells": [
  {
   "cell_type": "markdown",
   "id": "7d1c96a7",
   "metadata": {},
   "source": [
    "# Data Science Tools and Ecosystem"
   ]
  },
  {
   "cell_type": "markdown",
   "id": "c8df4369",
   "metadata": {},
   "source": [
    "In this notebook we'll discuss data science topics and explain some concepts"
   ]
  },
  {
   "cell_type": "code",
   "execution_count": null,
   "id": "1529500d",
   "metadata": {},
   "outputs": [],
   "source": [
    "Some of the popular languages that Data Scientists use are:\n",
    "    \n",
    "    1. Python\n",
    "    2. R\n",
    "    3. Julia"
   ]
  },
  {
   "cell_type": "markdown",
   "id": "ad9059ef",
   "metadata": {},
   "source": [
    "Some of the commonly used libraries used by Data Scientists include:\n",
    "    \n",
    "    1. Pandas\n",
    "    2. Numpy\n",
    "    3. Tensor Flow\n",
    "    4. Matplotlib"
   ]
  },
  {
   "cell_type": "markdown",
   "id": "8f1577e5",
   "metadata": {},
   "source": [
    "#### Data Science Tools\n",
    "\n",
    "| Stretch/Untouched |\n",
    "| --- |\n",
    "| Apache Spark | \n",
    "| --- |\n",
    "| RStudio | \n",
    "| --- |\n",
    "| TensorFlow | "
   ]
  },
  {
   "cell_type": "markdown",
   "id": "45e91157",
   "metadata": {},
   "source": [
    "### Below are a few examples of evaluating arithmetic expressions in Python\n",
    "\n",
    "+\n",
    "-\n",
    "/\n",
    "//\n",
    "*\n",
    "%"
   ]
  },
  {
   "cell_type": "code",
   "execution_count": 2,
   "id": "e3e5cfa3",
   "metadata": {},
   "outputs": [
    {
     "data": {
      "text/plain": [
       "17"
      ]
     },
     "execution_count": 2,
     "metadata": {},
     "output_type": "execute_result"
    }
   ],
   "source": [
    "## This a simple arithmetic expression to mutiply then add integers\n",
    "\n",
    "(3*4)+5"
   ]
  },
  {
   "cell_type": "code",
   "execution_count": 3,
   "id": "a409f3a3",
   "metadata": {},
   "outputs": [
    {
     "data": {
      "text/plain": [
       "3.3333333333333335"
      ]
     },
     "execution_count": 3,
     "metadata": {},
     "output_type": "execute_result"
    }
   ],
   "source": [
    "## This will convert 200 minutes to hours by diving by 60\n",
    "\n",
    "200 / 60"
   ]
  },
  {
   "cell_type": "markdown",
   "id": "c08c2e7b",
   "metadata": {},
   "source": [
    "**Objectives:**\n",
    "\n",
    "* List popular languages for data science\n",
    "* Examples of arithmetic expressions in Python\n",
    "* Data Science tools\n",
    "* Commonly used libraries"
   ]
  },
  {
   "cell_type": "markdown",
   "id": "e6bcf306",
   "metadata": {},
   "source": [
    "## Author\n",
    "\n",
    "Juan Camilo Vasquez Mira"
   ]
  },
  {
   "cell_type": "code",
   "execution_count": null,
   "id": "bd36c243",
   "metadata": {},
   "outputs": [],
   "source": []
  }
 ],
 "metadata": {
  "kernelspec": {
   "display_name": "Python 3 (ipykernel)",
   "language": "python",
   "name": "python3"
  },
  "language_info": {
   "codemirror_mode": {
    "name": "ipython",
    "version": 3
   },
   "file_extension": ".py",
   "mimetype": "text/x-python",
   "name": "python",
   "nbconvert_exporter": "python",
   "pygments_lexer": "ipython3",
   "version": "3.9.7"
  }
 },
 "nbformat": 4,
 "nbformat_minor": 5
}
